{
 "cells": [
  {
   "cell_type": "markdown",
   "id": "78dc6348",
   "metadata": {},
   "source": [
    "You are creating a program to manage a grocery shopping list. Users should be able to add items, \n",
    "remove items, and display the current list.\n"
   ]
  },
  {
   "cell_type": "code",
   "execution_count": 1,
   "id": "55fe08ec",
   "metadata": {},
   "outputs": [
    {
     "name": "stdout",
     "output_type": "stream",
     "text": [
      "Enter item Name to add: onion\n",
      "Enter Item to Delete: carrot\n",
      "If You Want to Show Items List then Type \"Show Items\": Show items\n",
      "Grocery shopping list is:\n",
      "- Capsicum\n",
      "- Ginger\n",
      "- Potato\n",
      "- cucumber\n",
      "- onion\n"
     ]
    }
   ],
   "source": [
    "items = ['Capsicum', 'Ginger', 'Potato','carrot','cucumber']\n",
    "\n",
    "additem = input(\"Enter item Name to add: \")\n",
    "delitem = input(\"Enter Item to Delete: \")\n",
    "showitem = input('If You Want to Show Items List then Type \"Show Items\": ')\n",
    "\n",
    "if additem != \"\":\n",
    "    items.append(additem)\n",
    "\n",
    "if delitem != \"\":\n",
    "    items.remove(delitem)\n",
    "\n",
    "if showitem.lower() == \"show items\":\n",
    "    print(\"Grocery shopping list is:\")\n",
    "    for item in items:\n",
    "        print(f\"- {item}\")\n",
    "        \n",
    "        \n",
    "        "
   ]
  },
  {
   "cell_type": "markdown",
   "id": "1ebdeff7",
   "metadata": {},
   "source": [
    "You are managing student grades using a dictionary. You need to calculate the average grade.take \n",
    "atleast 5 Students grades & then calculate the average"
   ]
  },
  {
   "cell_type": "code",
   "execution_count": 6,
   "id": "ffe79e8e",
   "metadata": {},
   "outputs": [
    {
     "name": "stdout",
     "output_type": "stream",
     "text": [
      "Enter the Grade of 1st Student: 46\n",
      "Enter the Grade of 2st Student: 47\n",
      "Enter the Grade of 3st Student: 90\n",
      "Enter the Grade of 4st Student: 67\n",
      "Enter the Grade of 5st Student: 80\n",
      "\n",
      "Individual Grades:\n",
      "Student 1: 46\n",
      "Student 2: 47\n",
      "Student 3: 90\n",
      "Student 4: 67\n",
      "Student 5: 80\n",
      "\n",
      "Average Grade: 66.0\n"
     ]
    }
   ],
   "source": [
    "std1 = int(input(\"Enter the Grade of 1st Student: \"))\n",
    "std2 = int(input(\"Enter the Grade of 2st Student: \"))\n",
    "std3 = int(input(\"Enter the Grade of 3st Student: \"))\n",
    "std4 = int(input(\"Enter the Grade of 4st Student: \"))\n",
    "std5 = int(input(\"Enter the Grade of 5st Student: \"))\n",
    "\n",
    "student_grade = {\n",
    "    \"Student 1\": std1,\n",
    "    \"Student 2\": std2,\n",
    "    \"Student 3\": std3,\n",
    "    \"Student 4\": std4,\n",
    "    \"Student 5\": std5,\n",
    "}\n",
    "\n",
    "total_grades = 0\n",
    "for grade in student_grade.values():\n",
    "    total_grades += grade\n",
    "\n",
    "num_students = len(student_grade)\n",
    "average_grade = total_grades / num_students\n",
    "\n",
    "print(\"\\nIndividual Grades:\")\n",
    "for student, grade in student_grade.items():\n",
    "    print(f\"{student}: {grade}\")\n",
    "\n",
    "print(\"\\nAverage Grade:\", average_grade)"
   ]
  },
  {
   "cell_type": "markdown",
   "id": "0a5a018f",
   "metadata": {},
   "source": [
    "You are given a list of words, and you need to count the frequency of each word.\n",
    "word_list = [\"apple\", \"banana\", \"apple\", \"orange\", \"banana\", \"grape\", \"apple\"]\n"
   ]
  },
  {
   "cell_type": "code",
   "execution_count": 7,
   "id": "0a399486",
   "metadata": {},
   "outputs": [
    {
     "name": "stdout",
     "output_type": "stream",
     "text": [
      "apple: 3 times\n",
      "banana: 2 times\n",
      "orange: 1 times\n",
      "grape: 1 times\n"
     ]
    }
   ],
   "source": [
    "word_list = [\"apple\", \"banana\", \"apple\", \"orange\", \"banana\", \"grape\", \"apple\"]\n",
    "\n",
    "word_counts = {}\n",
    "for word in word_list:\n",
    "    if word in word_counts:\n",
    "        word_counts[word] += 1\n",
    "    else:\n",
    "        word_counts[word] = 1\n",
    "\n",
    "for word, count in word_counts.items():\n",
    "    print(f\"{word}: {count} times\")"
   ]
  },
  {
   "cell_type": "markdown",
   "id": "a6a7faf3",
   "metadata": {},
   "source": [
    "you are creating a program to check the strength of passwords based on certain criteria.\n",
    "• Password should be at least 8 characters long.\n",
    "• Password should contain at least one digit.\n",
    "• Password should contain at least one letter."
   ]
  },
  {
   "cell_type": "code",
   "execution_count": 10,
   "id": "03fd3c59",
   "metadata": {},
   "outputs": [
    {
     "name": "stdout",
     "output_type": "stream",
     "text": [
      "Enter Your Password: jakdj2jw\n",
      "Password is strong.\n"
     ]
    }
   ],
   "source": [
    "password = input(\"Enter Your Password: \")\n",
    "\n",
    "if len(password) < 8:\n",
    "    print(\"Password is too short. It should be at least 8 characters long.\")\n",
    "elif not any(char.isdigit() for char in password):\n",
    "    print(\"Password should contain at least one digit.\")\n",
    "elif not any(char.isalpha() for char in password):\n",
    "    print(\"Password should contain at least one letter.\")\n",
    "else:\n",
    "    print(\"Password is strong.\")"
   ]
  },
  {
   "cell_type": "markdown",
   "id": "726b2dcf",
   "metadata": {},
   "source": [
    "Voting System (Annual Employee Recognition Awards)"
   ]
  },
  {
   "cell_type": "code",
   "execution_count": 1,
   "id": "a8352d09",
   "metadata": {},
   "outputs": [
    {
     "name": "stdout",
     "output_type": "stream",
     "text": [
      "Enter the number of voters participating in the awards: 7\n",
      "\n",
      "Voter 1:\n",
      "1. Vote for Employee of the Year - Candidate A\n",
      "2. Vote for Employee of the Year - Candidate B\n",
      "3. Vote for Employee of the Year - Candidate C\n",
      "4. Vote for Team Player of the Year - Candidate A\n",
      "5. Vote for Team Player of the Year - Candidate B\n",
      "6. Vote for Team Player of the Year - Candidate C\n",
      "7. Vote for Innovation Award - Candidate A\n",
      "8. Vote for Innovation Award - Candidate B\n",
      "9. Vote for Innovation Award - Candidate C\n",
      "Enter the number of your favorite candidate: 4\n",
      "\n",
      "Vote for Team Player of the Year - Candidate A recorded!\n",
      "\n",
      "\n",
      "Voter 2:\n",
      "1. Vote for Employee of the Year - Candidate A\n",
      "2. Vote for Employee of the Year - Candidate B\n",
      "3. Vote for Employee of the Year - Candidate C\n",
      "4. Vote for Team Player of the Year - Candidate A\n",
      "5. Vote for Team Player of the Year - Candidate B\n",
      "6. Vote for Team Player of the Year - Candidate C\n",
      "7. Vote for Innovation Award - Candidate A\n",
      "8. Vote for Innovation Award - Candidate B\n",
      "9. Vote for Innovation Award - Candidate C\n",
      "Enter the number of your favorite candidate: 8\n",
      "\n",
      "Vote for Innovation Award - Candidate B recorded!\n",
      "\n",
      "\n",
      "Voter 3:\n",
      "1. Vote for Employee of the Year - Candidate A\n",
      "2. Vote for Employee of the Year - Candidate B\n",
      "3. Vote for Employee of the Year - Candidate C\n",
      "4. Vote for Team Player of the Year - Candidate A\n",
      "5. Vote for Team Player of the Year - Candidate B\n",
      "6. Vote for Team Player of the Year - Candidate C\n",
      "7. Vote for Innovation Award - Candidate A\n",
      "8. Vote for Innovation Award - Candidate B\n",
      "9. Vote for Innovation Award - Candidate C\n",
      "Enter the number of your favorite candidate: 6\n",
      "\n",
      "Vote for Team Player of the Year - Candidate C recorded!\n",
      "\n",
      "\n",
      "Voter 4:\n",
      "1. Vote for Employee of the Year - Candidate A\n",
      "2. Vote for Employee of the Year - Candidate B\n",
      "3. Vote for Employee of the Year - Candidate C\n",
      "4. Vote for Team Player of the Year - Candidate A\n",
      "5. Vote for Team Player of the Year - Candidate B\n",
      "6. Vote for Team Player of the Year - Candidate C\n",
      "7. Vote for Innovation Award - Candidate A\n",
      "8. Vote for Innovation Award - Candidate B\n",
      "9. Vote for Innovation Award - Candidate C\n",
      "Enter the number of your favorite candidate: 1\n",
      "\n",
      "Vote for Employee of the Year - Candidate A recorded!\n",
      "\n",
      "\n",
      "Voter 5:\n",
      "1. Vote for Employee of the Year - Candidate A\n",
      "2. Vote for Employee of the Year - Candidate B\n",
      "3. Vote for Employee of the Year - Candidate C\n",
      "4. Vote for Team Player of the Year - Candidate A\n",
      "5. Vote for Team Player of the Year - Candidate B\n",
      "6. Vote for Team Player of the Year - Candidate C\n",
      "7. Vote for Innovation Award - Candidate A\n",
      "8. Vote for Innovation Award - Candidate B\n",
      "9. Vote for Innovation Award - Candidate C\n",
      "Enter the number of your favorite candidate: 2\n",
      "\n",
      "Vote for Employee of the Year - Candidate B recorded!\n",
      "\n",
      "\n",
      "Voter 6:\n",
      "1. Vote for Employee of the Year - Candidate A\n",
      "2. Vote for Employee of the Year - Candidate B\n",
      "3. Vote for Employee of the Year - Candidate C\n",
      "4. Vote for Team Player of the Year - Candidate A\n",
      "5. Vote for Team Player of the Year - Candidate B\n",
      "6. Vote for Team Player of the Year - Candidate C\n",
      "7. Vote for Innovation Award - Candidate A\n",
      "8. Vote for Innovation Award - Candidate B\n",
      "9. Vote for Innovation Award - Candidate C\n",
      "Enter the number of your favorite candidate: 5\n",
      "\n",
      "Vote for Team Player of the Year - Candidate B recorded!\n",
      "\n",
      "\n",
      "Voter 7:\n",
      "1. Vote for Employee of the Year - Candidate A\n",
      "2. Vote for Employee of the Year - Candidate B\n",
      "3. Vote for Employee of the Year - Candidate C\n",
      "4. Vote for Team Player of the Year - Candidate A\n",
      "5. Vote for Team Player of the Year - Candidate B\n",
      "6. Vote for Team Player of the Year - Candidate C\n",
      "7. Vote for Innovation Award - Candidate A\n",
      "8. Vote for Innovation Award - Candidate B\n",
      "9. Vote for Innovation Award - Candidate C\n",
      "Enter the number of your favorite candidate: 6\n",
      "\n",
      "Vote for Team Player of the Year - Candidate C recorded!\n",
      "\n",
      "\n",
      "Final Vote Counts:\n",
      "Employee of the Year - Candidate A: 1 votes\n",
      "Employee of the Year - Candidate B: 1 votes\n",
      "Employee of the Year - Candidate C: 0 votes\n",
      "Team Player of the Year - Candidate A: 1 votes\n",
      "Team Player of the Year - Candidate B: 1 votes\n",
      "Team Player of the Year - Candidate C: 2 votes\n",
      "Innovation Award - Candidate A: 0 votes\n",
      "Innovation Award - Candidate B: 1 votes\n",
      "Innovation Award - Candidate C: 0 votes\n",
      "\n",
      "Award Winners:\n",
      "Employee of the Year: Employee of the Year - Candidate A (with 1 votes)\n",
      "Team Player of the Year: Team Player of the Year - Candidate C (with 2 votes)\n",
      "Innovation Award: Innovation Award - Candidate B (with 1 votes)\n"
     ]
    }
   ],
   "source": [
    "votes = {\"Employee of the Year - Candidate A\": 0, \"Employee of the Year - Candidate B\": 0, \"Employee of the Year - Candidate C\": 0,\n",
    "         \"Team Player of the Year - Candidate A\": 0, \"Team Player of the Year - Candidate B\": 0, \"Team Player of the Year - Candidate C\": 0,\n",
    "         \"Innovation Award - Candidate A\": 0, \"Innovation Award - Candidate B\": 0, \"Innovation Award - Candidate C\": 0}\n",
    "\n",
    "option_mapping = {\n",
    "    \"1\": \"Employee of the Year - Candidate A\", \"2\": \"Employee of the Year - Candidate B\", \"3\": \"Employee of the Year - Candidate C\",\n",
    "    \"4\": \"Team Player of the Year - Candidate A\", \"5\": \"Team Player of the Year - Candidate B\", \"6\": \"Team Player of the Year - Candidate C\",\n",
    "    \"7\": \"Innovation Award - Candidate A\", \"8\": \"Innovation Award - Candidate B\", \"9\": \"Innovation Award - Candidate C\"\n",
    "}\n",
    "\n",
    "num_voters = int(input(\"Enter the number of voters participating in the awards: \"))\n",
    "\n",
    "for voter in range(1, num_voters + 1):\n",
    "    print(f\"\\nVoter {voter}:\")\n",
    "    for option_num in option_mapping:\n",
    "        print(f\"{option_num}. Vote for {option_mapping[option_num]}\")\n",
    "\n",
    "    for _ in range(3):  \n",
    "        choice_input = input(\"Enter the number of your favorite candidate: \")\n",
    "        if choice_input.isdigit():\n",
    "            choice = int(choice_input)\n",
    "            if 1 <= choice <= len(option_mapping):\n",
    "                break\n",
    "            else:\n",
    "                print(\"Invalid choice. Please enter a valid option.\")\n",
    "        else:\n",
    "            print(\"Invalid input. Please enter a valid number.\")\n",
    "    else:\n",
    "        print(\"Too many invalid attempts. Exiting.\")\n",
    "        exit()\n",
    "\n",
    "    voted_candidate = option_mapping[str(choice)]\n",
    "    votes[voted_candidate] += 1\n",
    "    print(f\"\\nVote for {voted_candidate} recorded!\\n\")\n",
    "\n",
    "print(\"\\nFinal Vote Counts:\")\n",
    "for candidate, count in votes.items():\n",
    "    print(f\"{candidate}: {count} votes\")\n",
    "\n",
    "print(\"\\nAward Winners:\")\n",
    "for category in [\"Employee of the Year\", \"Team Player of the Year\", \"Innovation Award\"]:\n",
    "    category_candidates = [f\"{category} - Candidate A\", f\"{category} - Candidate B\", f\"{category} - Candidate C\"]\n",
    "    winner = max(category_candidates, key=lambda x: votes[x])\n",
    "    print(f\"{category}: {winner} (with {votes[winner]} votes)\")"
   ]
  },
  {
   "cell_type": "code",
   "execution_count": null,
   "id": "76ebb151",
   "metadata": {},
   "outputs": [],
   "source": []
  }
 ],
 "metadata": {
  "kernelspec": {
   "display_name": "Python 3 (ipykernel)",
   "language": "python",
   "name": "python3"
  },
  "language_info": {
   "codemirror_mode": {
    "name": "ipython",
    "version": 3
   },
   "file_extension": ".py",
   "mimetype": "text/x-python",
   "name": "python",
   "nbconvert_exporter": "python",
   "pygments_lexer": "ipython3",
   "version": "3.11.5"
  }
 },
 "nbformat": 4,
 "nbformat_minor": 5
}
